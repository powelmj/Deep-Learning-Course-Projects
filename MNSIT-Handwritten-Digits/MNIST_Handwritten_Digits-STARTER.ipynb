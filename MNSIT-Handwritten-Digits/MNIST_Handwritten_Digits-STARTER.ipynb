{
 "cells": [
  {
   "cell_type": "markdown",
   "metadata": {},
   "source": [
    "# Introduction\n",
    "\n",
    "In this project, you will build a neural network of your own design to evaluate the MNIST dataset.\n",
    "\n",
    "Some of the benchmark results on MNIST include can be found [on Yann LeCun's page](https://webcache.googleusercontent.com/search?q=cache:stAVPik6onEJ:yann.lecun.com/exdb/mnist) and include:\n",
    "\n",
    "88% [Lecun et al., 1998](https://hal.science/hal-03926082/document)\n",
    "\n",
    "95.3% [Lecun et al., 1998](https://hal.science/hal-03926082v1/document)\n",
    "\n",
    "99.65% [Ciresan et al., 2011](http://people.idsia.ch/~juergen/ijcai2011.pdf)\n",
    "\n",
    "\n",
    "MNIST is a great dataset for sanity checking your models, since the accuracy levels achieved by large convolutional neural networks and small linear models are both quite high. This makes it important to be familiar with the data.\n",
    "\n",
    "## Installation"
   ]
  },
  {
   "cell_type": "code",
   "execution_count": 1,
   "metadata": {},
   "outputs": [],
   "source": [
    "# Update the PATH to include the user installation directory. \n",
    "import os\n",
    "#os.environ['PATH'] = f\"{os.environ['PATH']}:/root/.local/bin\"\n",
    "\n",
    "# Restart the Kernel before you move on to the next step."
   ]
  },
  {
   "cell_type": "markdown",
   "metadata": {},
   "source": [
    "#### Important: Restart the Kernel before you move on to the next step."
   ]
  },
  {
   "cell_type": "code",
   "execution_count": 2,
   "metadata": {},
   "outputs": [
    {
     "name": "stdout",
     "output_type": "stream",
     "text": [
      "Defaulting to user installation because normal site-packages is not writeable\n",
      "Requirement already satisfied: ipywidgets in /Users/matthewpowel/.local/lib/python3.9/site-packages (7.7.0)\n",
      "Requirement already satisfied: ipykernel>=4.5.1 in /Users/matthewpowel/.local/lib/python3.9/site-packages (from ipywidgets) (4.10.0)\n",
      "Requirement already satisfied: ipython-genutils~=0.2.0 in /Users/matthewpowel/.local/lib/python3.9/site-packages (from ipywidgets) (0.2.0)\n",
      "Requirement already satisfied: traitlets>=4.3.1 in /Users/matthewpowel/.local/lib/python3.9/site-packages (from ipywidgets) (5.9.0)\n",
      "Requirement already satisfied: nbformat>=4.2.0 in /Users/matthewpowel/.local/lib/python3.9/site-packages (from ipywidgets) (5.9.2)\n",
      "Requirement already satisfied: widgetsnbextension~=3.6.0 in /Users/matthewpowel/.local/lib/python3.9/site-packages (from ipywidgets) (3.6.6)\n",
      "Requirement already satisfied: ipython>=4.0.0 in /Users/matthewpowel/.local/lib/python3.9/site-packages (from ipywidgets) (8.14.0)\n",
      "Requirement already satisfied: jupyterlab-widgets>=1.0.0 in /Users/matthewpowel/.local/lib/python3.9/site-packages (from ipywidgets) (3.0.8)\n",
      "Requirement already satisfied: jupyter-client in /Users/matthewpowel/.local/lib/python3.9/site-packages (from ipykernel>=4.5.1->ipywidgets) (8.3.0)\n",
      "Requirement already satisfied: tornado>=4.0 in /Users/matthewpowel/.local/lib/python3.9/site-packages (from ipykernel>=4.5.1->ipywidgets) (6.3.2)\n",
      "Requirement already satisfied: backcall in /Users/matthewpowel/.local/lib/python3.9/site-packages (from ipython>=4.0.0->ipywidgets) (0.2.0)\n",
      "Requirement already satisfied: decorator in /Users/matthewpowel/.local/lib/python3.9/site-packages (from ipython>=4.0.0->ipywidgets) (5.1.1)\n",
      "Requirement already satisfied: jedi>=0.16 in /Users/matthewpowel/.local/lib/python3.9/site-packages (from ipython>=4.0.0->ipywidgets) (0.19.0)\n",
      "Requirement already satisfied: matplotlib-inline in /Users/matthewpowel/.local/lib/python3.9/site-packages (from ipython>=4.0.0->ipywidgets) (0.1.6)\n",
      "Requirement already satisfied: pickleshare in /Users/matthewpowel/.local/lib/python3.9/site-packages (from ipython>=4.0.0->ipywidgets) (0.7.5)\n",
      "Requirement already satisfied: prompt-toolkit!=3.0.37,<3.1.0,>=3.0.30 in /Users/matthewpowel/.local/lib/python3.9/site-packages (from ipython>=4.0.0->ipywidgets) (3.0.39)\n",
      "Requirement already satisfied: pygments>=2.4.0 in /Users/matthewpowel/.local/lib/python3.9/site-packages (from ipython>=4.0.0->ipywidgets) (2.16.1)\n",
      "Requirement already satisfied: stack-data in /Users/matthewpowel/.local/lib/python3.9/site-packages (from ipython>=4.0.0->ipywidgets) (0.6.2)\n",
      "Requirement already satisfied: typing-extensions in /Users/matthewpowel/.local/lib/python3.9/site-packages (from ipython>=4.0.0->ipywidgets) (4.7.1)\n",
      "Requirement already satisfied: pexpect>4.3 in /Users/matthewpowel/.local/lib/python3.9/site-packages (from ipython>=4.0.0->ipywidgets) (4.8.0)\n",
      "Requirement already satisfied: appnope in /Users/matthewpowel/.local/lib/python3.9/site-packages (from ipython>=4.0.0->ipywidgets) (0.1.3)\n",
      "Requirement already satisfied: fastjsonschema in /Users/matthewpowel/.local/lib/python3.9/site-packages (from nbformat>=4.2.0->ipywidgets) (2.18.0)\n",
      "Requirement already satisfied: jsonschema>=2.6 in /Users/matthewpowel/.local/lib/python3.9/site-packages (from nbformat>=4.2.0->ipywidgets) (4.19.0)\n",
      "Requirement already satisfied: jupyter-core in /Users/matthewpowel/.local/lib/python3.9/site-packages (from nbformat>=4.2.0->ipywidgets) (5.3.1)\n",
      "Requirement already satisfied: notebook>=4.4.1 in /Users/matthewpowel/.local/lib/python3.9/site-packages (from widgetsnbextension~=3.6.0->ipywidgets) (7.0.2)\n",
      "Requirement already satisfied: parso<0.9.0,>=0.8.3 in /Users/matthewpowel/.local/lib/python3.9/site-packages (from jedi>=0.16->ipython>=4.0.0->ipywidgets) (0.8.3)\n",
      "Requirement already satisfied: attrs>=22.2.0 in /Users/matthewpowel/.local/lib/python3.9/site-packages (from jsonschema>=2.6->nbformat>=4.2.0->ipywidgets) (23.1.0)\n",
      "Requirement already satisfied: jsonschema-specifications>=2023.03.6 in /Users/matthewpowel/.local/lib/python3.9/site-packages (from jsonschema>=2.6->nbformat>=4.2.0->ipywidgets) (2023.7.1)\n",
      "Requirement already satisfied: referencing>=0.28.4 in /Users/matthewpowel/.local/lib/python3.9/site-packages (from jsonschema>=2.6->nbformat>=4.2.0->ipywidgets) (0.30.2)\n",
      "Requirement already satisfied: rpds-py>=0.7.1 in /Users/matthewpowel/.local/lib/python3.9/site-packages (from jsonschema>=2.6->nbformat>=4.2.0->ipywidgets) (0.9.2)\n",
      "Requirement already satisfied: jupyter-server<3,>=2.4.0 in /Users/matthewpowel/.local/lib/python3.9/site-packages (from notebook>=4.4.1->widgetsnbextension~=3.6.0->ipywidgets) (2.7.0)\n",
      "Requirement already satisfied: jupyterlab-server<3,>=2.22.1 in /Users/matthewpowel/.local/lib/python3.9/site-packages (from notebook>=4.4.1->widgetsnbextension~=3.6.0->ipywidgets) (2.24.0)\n",
      "Requirement already satisfied: jupyterlab<5,>=4.0.2 in /Users/matthewpowel/.local/lib/python3.9/site-packages (from notebook>=4.4.1->widgetsnbextension~=3.6.0->ipywidgets) (4.0.4)\n",
      "Requirement already satisfied: notebook-shim<0.3,>=0.2 in /Users/matthewpowel/.local/lib/python3.9/site-packages (from notebook>=4.4.1->widgetsnbextension~=3.6.0->ipywidgets) (0.2.3)\n",
      "Requirement already satisfied: ptyprocess>=0.5 in /Users/matthewpowel/.local/lib/python3.9/site-packages (from pexpect>4.3->ipython>=4.0.0->ipywidgets) (0.7.0)\n",
      "Requirement already satisfied: wcwidth in /Users/matthewpowel/.local/lib/python3.9/site-packages (from prompt-toolkit!=3.0.37,<3.1.0,>=3.0.30->ipython>=4.0.0->ipywidgets) (0.2.6)\n",
      "Requirement already satisfied: importlib-metadata>=4.8.3 in /Users/matthewpowel/.local/lib/python3.9/site-packages (from jupyter-client->ipykernel>=4.5.1->ipywidgets) (6.8.0)\n",
      "Requirement already satisfied: python-dateutil>=2.8.2 in /Users/matthewpowel/.local/lib/python3.9/site-packages (from jupyter-client->ipykernel>=4.5.1->ipywidgets) (2.8.2)\n",
      "Requirement already satisfied: pyzmq>=23.0 in /Users/matthewpowel/.local/lib/python3.9/site-packages (from jupyter-client->ipykernel>=4.5.1->ipywidgets) (25.1.0)\n",
      "Requirement already satisfied: platformdirs>=2.5 in /Users/matthewpowel/.local/lib/python3.9/site-packages (from jupyter-core->nbformat>=4.2.0->ipywidgets) (3.10.0)\n",
      "Requirement already satisfied: executing>=1.2.0 in /Users/matthewpowel/.local/lib/python3.9/site-packages (from stack-data->ipython>=4.0.0->ipywidgets) (1.2.0)\n",
      "Requirement already satisfied: asttokens>=2.1.0 in /Users/matthewpowel/.local/lib/python3.9/site-packages (from stack-data->ipython>=4.0.0->ipywidgets) (2.2.1)\n",
      "Requirement already satisfied: pure-eval in /Users/matthewpowel/.local/lib/python3.9/site-packages (from stack-data->ipython>=4.0.0->ipywidgets) (0.2.2)\n",
      "Requirement already satisfied: six in /Users/matthewpowel/miniconda3/lib/python3.9/site-packages (from asttokens>=2.1.0->stack-data->ipython>=4.0.0->ipywidgets) (1.16.0)\n",
      "Requirement already satisfied: zipp>=0.5 in /Users/matthewpowel/.local/lib/python3.9/site-packages (from importlib-metadata>=4.8.3->jupyter-client->ipykernel>=4.5.1->ipywidgets) (3.16.2)\n",
      "Requirement already satisfied: anyio>=3.1.0 in /Users/matthewpowel/.local/lib/python3.9/site-packages (from jupyter-server<3,>=2.4.0->notebook>=4.4.1->widgetsnbextension~=3.6.0->ipywidgets) (3.7.1)\n",
      "Requirement already satisfied: argon2-cffi in /Users/matthewpowel/.local/lib/python3.9/site-packages (from jupyter-server<3,>=2.4.0->notebook>=4.4.1->widgetsnbextension~=3.6.0->ipywidgets) (21.3.0)\n",
      "Requirement already satisfied: jinja2 in /Users/matthewpowel/.local/lib/python3.9/site-packages (from jupyter-server<3,>=2.4.0->notebook>=4.4.1->widgetsnbextension~=3.6.0->ipywidgets) (3.1.2)\n",
      "Requirement already satisfied: jupyter-events>=0.6.0 in /Users/matthewpowel/.local/lib/python3.9/site-packages (from jupyter-server<3,>=2.4.0->notebook>=4.4.1->widgetsnbextension~=3.6.0->ipywidgets) (0.7.0)\n",
      "Requirement already satisfied: jupyter-server-terminals in /Users/matthewpowel/.local/lib/python3.9/site-packages (from jupyter-server<3,>=2.4.0->notebook>=4.4.1->widgetsnbextension~=3.6.0->ipywidgets) (0.4.4)\n",
      "Requirement already satisfied: nbconvert>=6.4.4 in /Users/matthewpowel/.local/lib/python3.9/site-packages (from jupyter-server<3,>=2.4.0->notebook>=4.4.1->widgetsnbextension~=3.6.0->ipywidgets) (7.7.3)\n",
      "Requirement already satisfied: overrides in /Users/matthewpowel/.local/lib/python3.9/site-packages (from jupyter-server<3,>=2.4.0->notebook>=4.4.1->widgetsnbextension~=3.6.0->ipywidgets) (7.4.0)\n",
      "Requirement already satisfied: packaging in /Users/matthewpowel/.local/lib/python3.9/site-packages (from jupyter-server<3,>=2.4.0->notebook>=4.4.1->widgetsnbextension~=3.6.0->ipywidgets) (23.2)\n",
      "Requirement already satisfied: prometheus-client in /Users/matthewpowel/.local/lib/python3.9/site-packages (from jupyter-server<3,>=2.4.0->notebook>=4.4.1->widgetsnbextension~=3.6.0->ipywidgets) (0.17.1)\n",
      "Requirement already satisfied: send2trash in /Users/matthewpowel/.local/lib/python3.9/site-packages (from jupyter-server<3,>=2.4.0->notebook>=4.4.1->widgetsnbextension~=3.6.0->ipywidgets) (1.8.2)\n",
      "Requirement already satisfied: terminado>=0.8.3 in /Users/matthewpowel/.local/lib/python3.9/site-packages (from jupyter-server<3,>=2.4.0->notebook>=4.4.1->widgetsnbextension~=3.6.0->ipywidgets) (0.17.1)\n",
      "Requirement already satisfied: websocket-client in /Users/matthewpowel/.local/lib/python3.9/site-packages (from jupyter-server<3,>=2.4.0->notebook>=4.4.1->widgetsnbextension~=3.6.0->ipywidgets) (1.6.1)\n",
      "Requirement already satisfied: async-lru>=1.0.0 in /Users/matthewpowel/.local/lib/python3.9/site-packages (from jupyterlab<5,>=4.0.2->notebook>=4.4.1->widgetsnbextension~=3.6.0->ipywidgets) (2.0.4)\n",
      "Requirement already satisfied: jupyter-lsp>=2.0.0 in /Users/matthewpowel/.local/lib/python3.9/site-packages (from jupyterlab<5,>=4.0.2->notebook>=4.4.1->widgetsnbextension~=3.6.0->ipywidgets) (2.2.0)\n",
      "Requirement already satisfied: tomli in /Users/matthewpowel/.local/lib/python3.9/site-packages (from jupyterlab<5,>=4.0.2->notebook>=4.4.1->widgetsnbextension~=3.6.0->ipywidgets) (2.0.1)\n",
      "Requirement already satisfied: babel>=2.10 in /Users/matthewpowel/.local/lib/python3.9/site-packages (from jupyterlab-server<3,>=2.22.1->notebook>=4.4.1->widgetsnbextension~=3.6.0->ipywidgets) (2.12.1)\n",
      "Requirement already satisfied: json5>=0.9.0 in /Users/matthewpowel/.local/lib/python3.9/site-packages (from jupyterlab-server<3,>=2.22.1->notebook>=4.4.1->widgetsnbextension~=3.6.0->ipywidgets) (0.9.14)\n",
      "Requirement already satisfied: requests>=2.28 in /Users/matthewpowel/.local/lib/python3.9/site-packages (from jupyterlab-server<3,>=2.22.1->notebook>=4.4.1->widgetsnbextension~=3.6.0->ipywidgets) (2.31.0)\n",
      "Requirement already satisfied: idna>=2.8 in /Users/matthewpowel/miniconda3/lib/python3.9/site-packages (from anyio>=3.1.0->jupyter-server<3,>=2.4.0->notebook>=4.4.1->widgetsnbextension~=3.6.0->ipywidgets) (3.4)\n",
      "Requirement already satisfied: sniffio>=1.1 in /Users/matthewpowel/.local/lib/python3.9/site-packages (from anyio>=3.1.0->jupyter-server<3,>=2.4.0->notebook>=4.4.1->widgetsnbextension~=3.6.0->ipywidgets) (1.3.0)\n",
      "Requirement already satisfied: exceptiongroup in /Users/matthewpowel/.local/lib/python3.9/site-packages (from anyio>=3.1.0->jupyter-server<3,>=2.4.0->notebook>=4.4.1->widgetsnbextension~=3.6.0->ipywidgets) (1.1.2)\n",
      "Requirement already satisfied: MarkupSafe>=2.0 in /Users/matthewpowel/.local/lib/python3.9/site-packages (from jinja2->jupyter-server<3,>=2.4.0->notebook>=4.4.1->widgetsnbextension~=3.6.0->ipywidgets) (2.1.3)\n",
      "Requirement already satisfied: python-json-logger>=2.0.4 in /Users/matthewpowel/.local/lib/python3.9/site-packages (from jupyter-events>=0.6.0->jupyter-server<3,>=2.4.0->notebook>=4.4.1->widgetsnbextension~=3.6.0->ipywidgets) (2.0.7)\n",
      "Requirement already satisfied: pyyaml>=5.3 in /Users/matthewpowel/.local/lib/python3.9/site-packages (from jupyter-events>=0.6.0->jupyter-server<3,>=2.4.0->notebook>=4.4.1->widgetsnbextension~=3.6.0->ipywidgets) (6.0.1)\n",
      "Requirement already satisfied: rfc3339-validator in /Users/matthewpowel/.local/lib/python3.9/site-packages (from jupyter-events>=0.6.0->jupyter-server<3,>=2.4.0->notebook>=4.4.1->widgetsnbextension~=3.6.0->ipywidgets) (0.1.4)\n",
      "Requirement already satisfied: rfc3986-validator>=0.1.1 in /Users/matthewpowel/.local/lib/python3.9/site-packages (from jupyter-events>=0.6.0->jupyter-server<3,>=2.4.0->notebook>=4.4.1->widgetsnbextension~=3.6.0->ipywidgets) (0.1.1)\n",
      "Requirement already satisfied: beautifulsoup4 in /Users/matthewpowel/.local/lib/python3.9/site-packages (from nbconvert>=6.4.4->jupyter-server<3,>=2.4.0->notebook>=4.4.1->widgetsnbextension~=3.6.0->ipywidgets) (4.12.2)\n",
      "Requirement already satisfied: bleach!=5.0.0 in /Users/matthewpowel/.local/lib/python3.9/site-packages (from nbconvert>=6.4.4->jupyter-server<3,>=2.4.0->notebook>=4.4.1->widgetsnbextension~=3.6.0->ipywidgets) (6.0.0)\n",
      "Requirement already satisfied: defusedxml in /Users/matthewpowel/.local/lib/python3.9/site-packages (from nbconvert>=6.4.4->jupyter-server<3,>=2.4.0->notebook>=4.4.1->widgetsnbextension~=3.6.0->ipywidgets) (0.7.1)\n",
      "Requirement already satisfied: jupyterlab-pygments in /Users/matthewpowel/.local/lib/python3.9/site-packages (from nbconvert>=6.4.4->jupyter-server<3,>=2.4.0->notebook>=4.4.1->widgetsnbextension~=3.6.0->ipywidgets) (0.2.2)\n",
      "Requirement already satisfied: mistune<4,>=2.0.3 in /Users/matthewpowel/.local/lib/python3.9/site-packages (from nbconvert>=6.4.4->jupyter-server<3,>=2.4.0->notebook>=4.4.1->widgetsnbextension~=3.6.0->ipywidgets) (3.0.1)\n",
      "Requirement already satisfied: nbclient>=0.5.0 in /Users/matthewpowel/.local/lib/python3.9/site-packages (from nbconvert>=6.4.4->jupyter-server<3,>=2.4.0->notebook>=4.4.1->widgetsnbextension~=3.6.0->ipywidgets) (0.8.0)\n",
      "Requirement already satisfied: pandocfilters>=1.4.1 in /Users/matthewpowel/.local/lib/python3.9/site-packages (from nbconvert>=6.4.4->jupyter-server<3,>=2.4.0->notebook>=4.4.1->widgetsnbextension~=3.6.0->ipywidgets) (1.5.0)\n",
      "Requirement already satisfied: tinycss2 in /Users/matthewpowel/.local/lib/python3.9/site-packages (from nbconvert>=6.4.4->jupyter-server<3,>=2.4.0->notebook>=4.4.1->widgetsnbextension~=3.6.0->ipywidgets) (1.2.1)\n",
      "Requirement already satisfied: charset-normalizer<4,>=2 in /Users/matthewpowel/miniconda3/lib/python3.9/site-packages (from requests>=2.28->jupyterlab-server<3,>=2.22.1->notebook>=4.4.1->widgetsnbextension~=3.6.0->ipywidgets) (2.0.4)\n",
      "Requirement already satisfied: urllib3<3,>=1.21.1 in /Users/matthewpowel/miniconda3/lib/python3.9/site-packages (from requests>=2.28->jupyterlab-server<3,>=2.22.1->notebook>=4.4.1->widgetsnbextension~=3.6.0->ipywidgets) (1.26.16)\n",
      "Requirement already satisfied: certifi>=2017.4.17 in /Users/matthewpowel/miniconda3/lib/python3.9/site-packages (from requests>=2.28->jupyterlab-server<3,>=2.22.1->notebook>=4.4.1->widgetsnbextension~=3.6.0->ipywidgets) (2024.2.2)\n",
      "Requirement already satisfied: argon2-cffi-bindings in /Users/matthewpowel/.local/lib/python3.9/site-packages (from argon2-cffi->jupyter-server<3,>=2.4.0->notebook>=4.4.1->widgetsnbextension~=3.6.0->ipywidgets) (21.2.0)\n",
      "Requirement already satisfied: webencodings in /Users/matthewpowel/.local/lib/python3.9/site-packages (from bleach!=5.0.0->nbconvert>=6.4.4->jupyter-server<3,>=2.4.0->notebook>=4.4.1->widgetsnbextension~=3.6.0->ipywidgets) (0.5.1)\n",
      "Requirement already satisfied: fqdn in /Users/matthewpowel/.local/lib/python3.9/site-packages (from jsonschema>=2.6->nbformat>=4.2.0->ipywidgets) (1.5.1)\n",
      "Requirement already satisfied: isoduration in /Users/matthewpowel/.local/lib/python3.9/site-packages (from jsonschema>=2.6->nbformat>=4.2.0->ipywidgets) (20.11.0)\n",
      "Requirement already satisfied: jsonpointer>1.13 in /Users/matthewpowel/.local/lib/python3.9/site-packages (from jsonschema>=2.6->nbformat>=4.2.0->ipywidgets) (2.4)\n",
      "Requirement already satisfied: uri-template in /Users/matthewpowel/.local/lib/python3.9/site-packages (from jsonschema>=2.6->nbformat>=4.2.0->ipywidgets) (1.3.0)\n",
      "Requirement already satisfied: webcolors>=1.11 in /Users/matthewpowel/.local/lib/python3.9/site-packages (from jsonschema>=2.6->nbformat>=4.2.0->ipywidgets) (1.13)\n",
      "Requirement already satisfied: cffi>=1.0.1 in /Users/matthewpowel/miniconda3/lib/python3.9/site-packages (from argon2-cffi-bindings->argon2-cffi->jupyter-server<3,>=2.4.0->notebook>=4.4.1->widgetsnbextension~=3.6.0->ipywidgets) (1.15.1)\n",
      "Requirement already satisfied: soupsieve>1.2 in /Users/matthewpowel/.local/lib/python3.9/site-packages (from beautifulsoup4->nbconvert>=6.4.4->jupyter-server<3,>=2.4.0->notebook>=4.4.1->widgetsnbextension~=3.6.0->ipywidgets) (2.4.1)\n",
      "Requirement already satisfied: pycparser in /Users/matthewpowel/miniconda3/lib/python3.9/site-packages (from cffi>=1.0.1->argon2-cffi-bindings->argon2-cffi->jupyter-server<3,>=2.4.0->notebook>=4.4.1->widgetsnbextension~=3.6.0->ipywidgets) (2.21)\n",
      "Requirement already satisfied: arrow>=0.15.0 in /Users/matthewpowel/.local/lib/python3.9/site-packages (from isoduration->jsonschema>=2.6->nbformat>=4.2.0->ipywidgets) (1.2.3)\n",
      "Defaulting to user installation because normal site-packages is not writeable\n",
      "Requirement already satisfied: opencv-python-headless==4.5.3.56 in /Users/matthewpowel/.local/lib/python3.9/site-packages (from -r requirements.txt (line 1)) (4.5.3.56)\n",
      "Requirement already satisfied: matplotlib==3.4.3 in /Users/matthewpowel/.local/lib/python3.9/site-packages (from -r requirements.txt (line 2)) (3.4.3)\n",
      "Requirement already satisfied: numpy==1.21.2 in /Users/matthewpowel/.local/lib/python3.9/site-packages (from -r requirements.txt (line 3)) (1.21.2)\n",
      "Requirement already satisfied: pillow==7.0.0 in /Users/matthewpowel/.local/lib/python3.9/site-packages (from -r requirements.txt (line 4)) (7.0.0)\n",
      "Requirement already satisfied: bokeh==2.1.1 in /Users/matthewpowel/.local/lib/python3.9/site-packages (from -r requirements.txt (line 5)) (2.1.1)\n",
      "Requirement already satisfied: torch==1.11.0 in /Users/matthewpowel/.local/lib/python3.9/site-packages (from -r requirements.txt (line 6)) (1.11.0)\n",
      "Requirement already satisfied: torchvision==0.12.0 in /Users/matthewpowel/.local/lib/python3.9/site-packages (from -r requirements.txt (line 7)) (0.12.0)\n",
      "Requirement already satisfied: tqdm==4.63.0 in /Users/matthewpowel/.local/lib/python3.9/site-packages (from -r requirements.txt (line 8)) (4.63.0)\n",
      "Requirement already satisfied: ipywidgets==7.7.0 in /Users/matthewpowel/.local/lib/python3.9/site-packages (from -r requirements.txt (line 9)) (7.7.0)\n",
      "Requirement already satisfied: livelossplot==0.5.4 in /Users/matthewpowel/.local/lib/python3.9/site-packages (from -r requirements.txt (line 10)) (0.5.4)\n",
      "Requirement already satisfied: pytest==7.1.1 in /Users/matthewpowel/.local/lib/python3.9/site-packages (from -r requirements.txt (line 11)) (7.1.1)\n",
      "Requirement already satisfied: pandas==1.3.5 in /Users/matthewpowel/.local/lib/python3.9/site-packages (from -r requirements.txt (line 12)) (1.3.5)\n",
      "Requirement already satisfied: seaborn==0.11.2 in /Users/matthewpowel/.local/lib/python3.9/site-packages (from -r requirements.txt (line 13)) (0.11.2)\n",
      "Requirement already satisfied: jupyter==1.0.0 in /Users/matthewpowel/.local/lib/python3.9/site-packages (from -r requirements.txt (line 14)) (1.0.0)\n",
      "Requirement already satisfied: ipykernel==4.10.0 in /Users/matthewpowel/.local/lib/python3.9/site-packages (from -r requirements.txt (line 15)) (4.10.0)\n",
      "Requirement already satisfied: cycler>=0.10 in /Users/matthewpowel/miniconda3/lib/python3.9/site-packages (from matplotlib==3.4.3->-r requirements.txt (line 2)) (0.11.0)\n",
      "Requirement already satisfied: kiwisolver>=1.0.1 in /Users/matthewpowel/miniconda3/lib/python3.9/site-packages (from matplotlib==3.4.3->-r requirements.txt (line 2)) (1.4.4)\n",
      "Requirement already satisfied: pyparsing>=2.2.1 in /Users/matthewpowel/miniconda3/lib/python3.9/site-packages (from matplotlib==3.4.3->-r requirements.txt (line 2)) (3.1.1)\n",
      "Requirement already satisfied: python-dateutil>=2.7 in /Users/matthewpowel/.local/lib/python3.9/site-packages (from matplotlib==3.4.3->-r requirements.txt (line 2)) (2.8.2)\n",
      "Requirement already satisfied: PyYAML>=3.10 in /Users/matthewpowel/.local/lib/python3.9/site-packages (from bokeh==2.1.1->-r requirements.txt (line 5)) (6.0.1)\n",
      "Requirement already satisfied: Jinja2>=2.7 in /Users/matthewpowel/.local/lib/python3.9/site-packages (from bokeh==2.1.1->-r requirements.txt (line 5)) (3.1.2)\n",
      "Requirement already satisfied: packaging>=16.8 in /Users/matthewpowel/.local/lib/python3.9/site-packages (from bokeh==2.1.1->-r requirements.txt (line 5)) (23.2)\n",
      "Requirement already satisfied: tornado>=5.1 in /Users/matthewpowel/.local/lib/python3.9/site-packages (from bokeh==2.1.1->-r requirements.txt (line 5)) (6.3.2)\n",
      "Requirement already satisfied: typing-extensions>=3.7.4 in /Users/matthewpowel/.local/lib/python3.9/site-packages (from bokeh==2.1.1->-r requirements.txt (line 5)) (4.7.1)\n",
      "Requirement already satisfied: requests in /Users/matthewpowel/.local/lib/python3.9/site-packages (from torchvision==0.12.0->-r requirements.txt (line 7)) (2.31.0)\n",
      "Requirement already satisfied: ipython-genutils~=0.2.0 in /Users/matthewpowel/.local/lib/python3.9/site-packages (from ipywidgets==7.7.0->-r requirements.txt (line 9)) (0.2.0)\n",
      "Requirement already satisfied: traitlets>=4.3.1 in /Users/matthewpowel/.local/lib/python3.9/site-packages (from ipywidgets==7.7.0->-r requirements.txt (line 9)) (5.9.0)\n",
      "Requirement already satisfied: nbformat>=4.2.0 in /Users/matthewpowel/.local/lib/python3.9/site-packages (from ipywidgets==7.7.0->-r requirements.txt (line 9)) (5.9.2)\n",
      "Requirement already satisfied: widgetsnbextension~=3.6.0 in /Users/matthewpowel/.local/lib/python3.9/site-packages (from ipywidgets==7.7.0->-r requirements.txt (line 9)) (3.6.6)\n",
      "Requirement already satisfied: ipython>=4.0.0 in /Users/matthewpowel/.local/lib/python3.9/site-packages (from ipywidgets==7.7.0->-r requirements.txt (line 9)) (8.14.0)\n",
      "Requirement already satisfied: jupyterlab-widgets>=1.0.0 in /Users/matthewpowel/.local/lib/python3.9/site-packages (from ipywidgets==7.7.0->-r requirements.txt (line 9)) (3.0.8)\n",
      "Requirement already satisfied: attrs>=19.2.0 in /Users/matthewpowel/.local/lib/python3.9/site-packages (from pytest==7.1.1->-r requirements.txt (line 11)) (23.1.0)\n",
      "Requirement already satisfied: iniconfig in /Users/matthewpowel/.local/lib/python3.9/site-packages (from pytest==7.1.1->-r requirements.txt (line 11)) (2.0.0)\n",
      "Requirement already satisfied: pluggy<2.0,>=0.12 in /Users/matthewpowel/miniconda3/lib/python3.9/site-packages (from pytest==7.1.1->-r requirements.txt (line 11)) (1.2.0)\n",
      "Requirement already satisfied: py>=1.8.2 in /Users/matthewpowel/.local/lib/python3.9/site-packages (from pytest==7.1.1->-r requirements.txt (line 11)) (1.11.0)\n",
      "Requirement already satisfied: tomli>=1.0.0 in /Users/matthewpowel/.local/lib/python3.9/site-packages (from pytest==7.1.1->-r requirements.txt (line 11)) (2.0.1)\n",
      "Requirement already satisfied: pytz>=2017.3 in /Users/matthewpowel/miniconda3/lib/python3.9/site-packages (from pandas==1.3.5->-r requirements.txt (line 12)) (2022.7)\n",
      "Requirement already satisfied: scipy>=1.0 in /Users/matthewpowel/miniconda3/lib/python3.9/site-packages (from seaborn==0.11.2->-r requirements.txt (line 13)) (1.10.1)\n",
      "Requirement already satisfied: notebook in /Users/matthewpowel/.local/lib/python3.9/site-packages (from jupyter==1.0.0->-r requirements.txt (line 14)) (7.0.2)\n",
      "Requirement already satisfied: qtconsole in /Users/matthewpowel/.local/lib/python3.9/site-packages (from jupyter==1.0.0->-r requirements.txt (line 14)) (5.4.3)\n",
      "Requirement already satisfied: jupyter-console in /Users/matthewpowel/.local/lib/python3.9/site-packages (from jupyter==1.0.0->-r requirements.txt (line 14)) (6.4.4)\n",
      "Requirement already satisfied: nbconvert in /Users/matthewpowel/.local/lib/python3.9/site-packages (from jupyter==1.0.0->-r requirements.txt (line 14)) (7.7.3)\n",
      "Requirement already satisfied: jupyter-client in /Users/matthewpowel/.local/lib/python3.9/site-packages (from ipykernel==4.10.0->-r requirements.txt (line 15)) (8.3.0)\n",
      "Requirement already satisfied: backcall in /Users/matthewpowel/.local/lib/python3.9/site-packages (from ipython>=4.0.0->ipywidgets==7.7.0->-r requirements.txt (line 9)) (0.2.0)\n",
      "Requirement already satisfied: decorator in /Users/matthewpowel/.local/lib/python3.9/site-packages (from ipython>=4.0.0->ipywidgets==7.7.0->-r requirements.txt (line 9)) (5.1.1)\n",
      "Requirement already satisfied: jedi>=0.16 in /Users/matthewpowel/.local/lib/python3.9/site-packages (from ipython>=4.0.0->ipywidgets==7.7.0->-r requirements.txt (line 9)) (0.19.0)\n",
      "Requirement already satisfied: matplotlib-inline in /Users/matthewpowel/.local/lib/python3.9/site-packages (from ipython>=4.0.0->ipywidgets==7.7.0->-r requirements.txt (line 9)) (0.1.6)\n",
      "Requirement already satisfied: pickleshare in /Users/matthewpowel/.local/lib/python3.9/site-packages (from ipython>=4.0.0->ipywidgets==7.7.0->-r requirements.txt (line 9)) (0.7.5)\n",
      "Requirement already satisfied: prompt-toolkit!=3.0.37,<3.1.0,>=3.0.30 in /Users/matthewpowel/.local/lib/python3.9/site-packages (from ipython>=4.0.0->ipywidgets==7.7.0->-r requirements.txt (line 9)) (3.0.39)\n",
      "Requirement already satisfied: pygments>=2.4.0 in /Users/matthewpowel/.local/lib/python3.9/site-packages (from ipython>=4.0.0->ipywidgets==7.7.0->-r requirements.txt (line 9)) (2.16.1)\n",
      "Requirement already satisfied: stack-data in /Users/matthewpowel/.local/lib/python3.9/site-packages (from ipython>=4.0.0->ipywidgets==7.7.0->-r requirements.txt (line 9)) (0.6.2)\n",
      "Requirement already satisfied: pexpect>4.3 in /Users/matthewpowel/.local/lib/python3.9/site-packages (from ipython>=4.0.0->ipywidgets==7.7.0->-r requirements.txt (line 9)) (4.8.0)\n",
      "Requirement already satisfied: appnope in /Users/matthewpowel/.local/lib/python3.9/site-packages (from ipython>=4.0.0->ipywidgets==7.7.0->-r requirements.txt (line 9)) (0.1.3)\n",
      "Requirement already satisfied: MarkupSafe>=2.0 in /Users/matthewpowel/.local/lib/python3.9/site-packages (from Jinja2>=2.7->bokeh==2.1.1->-r requirements.txt (line 5)) (2.1.3)\n",
      "Requirement already satisfied: fastjsonschema in /Users/matthewpowel/.local/lib/python3.9/site-packages (from nbformat>=4.2.0->ipywidgets==7.7.0->-r requirements.txt (line 9)) (2.18.0)\n",
      "Requirement already satisfied: jsonschema>=2.6 in /Users/matthewpowel/.local/lib/python3.9/site-packages (from nbformat>=4.2.0->ipywidgets==7.7.0->-r requirements.txt (line 9)) (4.19.0)\n",
      "Requirement already satisfied: jupyter-core in /Users/matthewpowel/.local/lib/python3.9/site-packages (from nbformat>=4.2.0->ipywidgets==7.7.0->-r requirements.txt (line 9)) (5.3.1)\n",
      "Requirement already satisfied: six>=1.5 in /Users/matthewpowel/miniconda3/lib/python3.9/site-packages (from python-dateutil>=2.7->matplotlib==3.4.3->-r requirements.txt (line 2)) (1.16.0)\n",
      "Requirement already satisfied: jupyter-server<3,>=2.4.0 in /Users/matthewpowel/.local/lib/python3.9/site-packages (from notebook->jupyter==1.0.0->-r requirements.txt (line 14)) (2.7.0)\n",
      "Requirement already satisfied: jupyterlab-server<3,>=2.22.1 in /Users/matthewpowel/.local/lib/python3.9/site-packages (from notebook->jupyter==1.0.0->-r requirements.txt (line 14)) (2.24.0)\n",
      "Requirement already satisfied: jupyterlab<5,>=4.0.2 in /Users/matthewpowel/.local/lib/python3.9/site-packages (from notebook->jupyter==1.0.0->-r requirements.txt (line 14)) (4.0.4)\n",
      "Requirement already satisfied: notebook-shim<0.3,>=0.2 in /Users/matthewpowel/.local/lib/python3.9/site-packages (from notebook->jupyter==1.0.0->-r requirements.txt (line 14)) (0.2.3)\n",
      "Requirement already satisfied: importlib-metadata>=4.8.3 in /Users/matthewpowel/.local/lib/python3.9/site-packages (from jupyter-client->ipykernel==4.10.0->-r requirements.txt (line 15)) (6.8.0)\n",
      "Requirement already satisfied: pyzmq>=23.0 in /Users/matthewpowel/.local/lib/python3.9/site-packages (from jupyter-client->ipykernel==4.10.0->-r requirements.txt (line 15)) (25.1.0)\n",
      "Requirement already satisfied: beautifulsoup4 in /Users/matthewpowel/.local/lib/python3.9/site-packages (from nbconvert->jupyter==1.0.0->-r requirements.txt (line 14)) (4.12.2)\n",
      "Requirement already satisfied: bleach!=5.0.0 in /Users/matthewpowel/.local/lib/python3.9/site-packages (from nbconvert->jupyter==1.0.0->-r requirements.txt (line 14)) (6.0.0)\n",
      "Requirement already satisfied: defusedxml in /Users/matthewpowel/.local/lib/python3.9/site-packages (from nbconvert->jupyter==1.0.0->-r requirements.txt (line 14)) (0.7.1)\n",
      "Requirement already satisfied: jupyterlab-pygments in /Users/matthewpowel/.local/lib/python3.9/site-packages (from nbconvert->jupyter==1.0.0->-r requirements.txt (line 14)) (0.2.2)\n",
      "Requirement already satisfied: mistune<4,>=2.0.3 in /Users/matthewpowel/.local/lib/python3.9/site-packages (from nbconvert->jupyter==1.0.0->-r requirements.txt (line 14)) (3.0.1)\n",
      "Requirement already satisfied: nbclient>=0.5.0 in /Users/matthewpowel/.local/lib/python3.9/site-packages (from nbconvert->jupyter==1.0.0->-r requirements.txt (line 14)) (0.8.0)\n",
      "Requirement already satisfied: pandocfilters>=1.4.1 in /Users/matthewpowel/.local/lib/python3.9/site-packages (from nbconvert->jupyter==1.0.0->-r requirements.txt (line 14)) (1.5.0)\n",
      "Requirement already satisfied: tinycss2 in /Users/matthewpowel/.local/lib/python3.9/site-packages (from nbconvert->jupyter==1.0.0->-r requirements.txt (line 14)) (1.2.1)\n",
      "Requirement already satisfied: qtpy>=2.0.1 in /Users/matthewpowel/.local/lib/python3.9/site-packages (from qtconsole->jupyter==1.0.0->-r requirements.txt (line 14)) (2.3.1)\n",
      "Requirement already satisfied: charset-normalizer<4,>=2 in /Users/matthewpowel/miniconda3/lib/python3.9/site-packages (from requests->torchvision==0.12.0->-r requirements.txt (line 7)) (2.0.4)\n",
      "Requirement already satisfied: idna<4,>=2.5 in /Users/matthewpowel/miniconda3/lib/python3.9/site-packages (from requests->torchvision==0.12.0->-r requirements.txt (line 7)) (3.4)\n",
      "Requirement already satisfied: urllib3<3,>=1.21.1 in /Users/matthewpowel/miniconda3/lib/python3.9/site-packages (from requests->torchvision==0.12.0->-r requirements.txt (line 7)) (1.26.16)\n",
      "Requirement already satisfied: certifi>=2017.4.17 in /Users/matthewpowel/miniconda3/lib/python3.9/site-packages (from requests->torchvision==0.12.0->-r requirements.txt (line 7)) (2024.2.2)\n",
      "Requirement already satisfied: webencodings in /Users/matthewpowel/.local/lib/python3.9/site-packages (from bleach!=5.0.0->nbconvert->jupyter==1.0.0->-r requirements.txt (line 14)) (0.5.1)\n",
      "Requirement already satisfied: zipp>=0.5 in /Users/matthewpowel/.local/lib/python3.9/site-packages (from importlib-metadata>=4.8.3->jupyter-client->ipykernel==4.10.0->-r requirements.txt (line 15)) (3.16.2)\n",
      "Requirement already satisfied: parso<0.9.0,>=0.8.3 in /Users/matthewpowel/.local/lib/python3.9/site-packages (from jedi>=0.16->ipython>=4.0.0->ipywidgets==7.7.0->-r requirements.txt (line 9)) (0.8.3)\n",
      "Requirement already satisfied: jsonschema-specifications>=2023.03.6 in /Users/matthewpowel/.local/lib/python3.9/site-packages (from jsonschema>=2.6->nbformat>=4.2.0->ipywidgets==7.7.0->-r requirements.txt (line 9)) (2023.7.1)\n",
      "Requirement already satisfied: referencing>=0.28.4 in /Users/matthewpowel/.local/lib/python3.9/site-packages (from jsonschema>=2.6->nbformat>=4.2.0->ipywidgets==7.7.0->-r requirements.txt (line 9)) (0.30.2)\n",
      "Requirement already satisfied: rpds-py>=0.7.1 in /Users/matthewpowel/.local/lib/python3.9/site-packages (from jsonschema>=2.6->nbformat>=4.2.0->ipywidgets==7.7.0->-r requirements.txt (line 9)) (0.9.2)\n",
      "Requirement already satisfied: platformdirs>=2.5 in /Users/matthewpowel/.local/lib/python3.9/site-packages (from jupyter-core->nbformat>=4.2.0->ipywidgets==7.7.0->-r requirements.txt (line 9)) (3.10.0)\n",
      "Requirement already satisfied: anyio>=3.1.0 in /Users/matthewpowel/.local/lib/python3.9/site-packages (from jupyter-server<3,>=2.4.0->notebook->jupyter==1.0.0->-r requirements.txt (line 14)) (3.7.1)\n",
      "Requirement already satisfied: argon2-cffi in /Users/matthewpowel/.local/lib/python3.9/site-packages (from jupyter-server<3,>=2.4.0->notebook->jupyter==1.0.0->-r requirements.txt (line 14)) (21.3.0)\n",
      "Requirement already satisfied: jupyter-events>=0.6.0 in /Users/matthewpowel/.local/lib/python3.9/site-packages (from jupyter-server<3,>=2.4.0->notebook->jupyter==1.0.0->-r requirements.txt (line 14)) (0.7.0)\n",
      "Requirement already satisfied: jupyter-server-terminals in /Users/matthewpowel/.local/lib/python3.9/site-packages (from jupyter-server<3,>=2.4.0->notebook->jupyter==1.0.0->-r requirements.txt (line 14)) (0.4.4)\n",
      "Requirement already satisfied: overrides in /Users/matthewpowel/.local/lib/python3.9/site-packages (from jupyter-server<3,>=2.4.0->notebook->jupyter==1.0.0->-r requirements.txt (line 14)) (7.4.0)\n",
      "Requirement already satisfied: prometheus-client in /Users/matthewpowel/.local/lib/python3.9/site-packages (from jupyter-server<3,>=2.4.0->notebook->jupyter==1.0.0->-r requirements.txt (line 14)) (0.17.1)\n",
      "Requirement already satisfied: send2trash in /Users/matthewpowel/.local/lib/python3.9/site-packages (from jupyter-server<3,>=2.4.0->notebook->jupyter==1.0.0->-r requirements.txt (line 14)) (1.8.2)\n",
      "Requirement already satisfied: terminado>=0.8.3 in /Users/matthewpowel/.local/lib/python3.9/site-packages (from jupyter-server<3,>=2.4.0->notebook->jupyter==1.0.0->-r requirements.txt (line 14)) (0.17.1)\n",
      "Requirement already satisfied: websocket-client in /Users/matthewpowel/.local/lib/python3.9/site-packages (from jupyter-server<3,>=2.4.0->notebook->jupyter==1.0.0->-r requirements.txt (line 14)) (1.6.1)\n",
      "Requirement already satisfied: async-lru>=1.0.0 in /Users/matthewpowel/.local/lib/python3.9/site-packages (from jupyterlab<5,>=4.0.2->notebook->jupyter==1.0.0->-r requirements.txt (line 14)) (2.0.4)\n",
      "Requirement already satisfied: jupyter-lsp>=2.0.0 in /Users/matthewpowel/.local/lib/python3.9/site-packages (from jupyterlab<5,>=4.0.2->notebook->jupyter==1.0.0->-r requirements.txt (line 14)) (2.2.0)\n",
      "Requirement already satisfied: babel>=2.10 in /Users/matthewpowel/.local/lib/python3.9/site-packages (from jupyterlab-server<3,>=2.22.1->notebook->jupyter==1.0.0->-r requirements.txt (line 14)) (2.12.1)\n",
      "Requirement already satisfied: json5>=0.9.0 in /Users/matthewpowel/.local/lib/python3.9/site-packages (from jupyterlab-server<3,>=2.22.1->notebook->jupyter==1.0.0->-r requirements.txt (line 14)) (0.9.14)\n",
      "Requirement already satisfied: ptyprocess>=0.5 in /Users/matthewpowel/.local/lib/python3.9/site-packages (from pexpect>4.3->ipython>=4.0.0->ipywidgets==7.7.0->-r requirements.txt (line 9)) (0.7.0)\n",
      "Requirement already satisfied: wcwidth in /Users/matthewpowel/.local/lib/python3.9/site-packages (from prompt-toolkit!=3.0.37,<3.1.0,>=3.0.30->ipython>=4.0.0->ipywidgets==7.7.0->-r requirements.txt (line 9)) (0.2.6)\n",
      "Requirement already satisfied: soupsieve>1.2 in /Users/matthewpowel/.local/lib/python3.9/site-packages (from beautifulsoup4->nbconvert->jupyter==1.0.0->-r requirements.txt (line 14)) (2.4.1)\n",
      "Requirement already satisfied: executing>=1.2.0 in /Users/matthewpowel/.local/lib/python3.9/site-packages (from stack-data->ipython>=4.0.0->ipywidgets==7.7.0->-r requirements.txt (line 9)) (1.2.0)\n",
      "Requirement already satisfied: asttokens>=2.1.0 in /Users/matthewpowel/.local/lib/python3.9/site-packages (from stack-data->ipython>=4.0.0->ipywidgets==7.7.0->-r requirements.txt (line 9)) (2.2.1)\n",
      "Requirement already satisfied: pure-eval in /Users/matthewpowel/.local/lib/python3.9/site-packages (from stack-data->ipython>=4.0.0->ipywidgets==7.7.0->-r requirements.txt (line 9)) (0.2.2)\n",
      "Requirement already satisfied: sniffio>=1.1 in /Users/matthewpowel/.local/lib/python3.9/site-packages (from anyio>=3.1.0->jupyter-server<3,>=2.4.0->notebook->jupyter==1.0.0->-r requirements.txt (line 14)) (1.3.0)\n",
      "Requirement already satisfied: exceptiongroup in /Users/matthewpowel/.local/lib/python3.9/site-packages (from anyio>=3.1.0->jupyter-server<3,>=2.4.0->notebook->jupyter==1.0.0->-r requirements.txt (line 14)) (1.1.2)\n",
      "Requirement already satisfied: python-json-logger>=2.0.4 in /Users/matthewpowel/.local/lib/python3.9/site-packages (from jupyter-events>=0.6.0->jupyter-server<3,>=2.4.0->notebook->jupyter==1.0.0->-r requirements.txt (line 14)) (2.0.7)\n",
      "Requirement already satisfied: rfc3339-validator in /Users/matthewpowel/.local/lib/python3.9/site-packages (from jupyter-events>=0.6.0->jupyter-server<3,>=2.4.0->notebook->jupyter==1.0.0->-r requirements.txt (line 14)) (0.1.4)\n",
      "Requirement already satisfied: rfc3986-validator>=0.1.1 in /Users/matthewpowel/.local/lib/python3.9/site-packages (from jupyter-events>=0.6.0->jupyter-server<3,>=2.4.0->notebook->jupyter==1.0.0->-r requirements.txt (line 14)) (0.1.1)\n",
      "Requirement already satisfied: argon2-cffi-bindings in /Users/matthewpowel/.local/lib/python3.9/site-packages (from argon2-cffi->jupyter-server<3,>=2.4.0->notebook->jupyter==1.0.0->-r requirements.txt (line 14)) (21.2.0)\n",
      "Requirement already satisfied: fqdn in /Users/matthewpowel/.local/lib/python3.9/site-packages (from jsonschema>=2.6->nbformat>=4.2.0->ipywidgets==7.7.0->-r requirements.txt (line 9)) (1.5.1)\n",
      "Requirement already satisfied: isoduration in /Users/matthewpowel/.local/lib/python3.9/site-packages (from jsonschema>=2.6->nbformat>=4.2.0->ipywidgets==7.7.0->-r requirements.txt (line 9)) (20.11.0)\n",
      "Requirement already satisfied: jsonpointer>1.13 in /Users/matthewpowel/.local/lib/python3.9/site-packages (from jsonschema>=2.6->nbformat>=4.2.0->ipywidgets==7.7.0->-r requirements.txt (line 9)) (2.4)\n",
      "Requirement already satisfied: uri-template in /Users/matthewpowel/.local/lib/python3.9/site-packages (from jsonschema>=2.6->nbformat>=4.2.0->ipywidgets==7.7.0->-r requirements.txt (line 9)) (1.3.0)\n",
      "Requirement already satisfied: webcolors>=1.11 in /Users/matthewpowel/.local/lib/python3.9/site-packages (from jsonschema>=2.6->nbformat>=4.2.0->ipywidgets==7.7.0->-r requirements.txt (line 9)) (1.13)\n",
      "Requirement already satisfied: cffi>=1.0.1 in /Users/matthewpowel/miniconda3/lib/python3.9/site-packages (from argon2-cffi-bindings->argon2-cffi->jupyter-server<3,>=2.4.0->notebook->jupyter==1.0.0->-r requirements.txt (line 14)) (1.15.1)\n",
      "Requirement already satisfied: pycparser in /Users/matthewpowel/miniconda3/lib/python3.9/site-packages (from cffi>=1.0.1->argon2-cffi-bindings->argon2-cffi->jupyter-server<3,>=2.4.0->notebook->jupyter==1.0.0->-r requirements.txt (line 14)) (2.21)\n",
      "Requirement already satisfied: arrow>=0.15.0 in /Users/matthewpowel/.local/lib/python3.9/site-packages (from isoduration->jsonschema>=2.6->nbformat>=4.2.0->ipywidgets==7.7.0->-r requirements.txt (line 9)) (1.2.3)\n"
     ]
    }
   ],
   "source": [
    "# Install requirements\n",
    "!pip install ipywidgets\n",
    "!python -m pip install -r requirements.txt\n"
   ]
  },
  {
   "cell_type": "markdown",
   "metadata": {},
   "source": [
    "## Imports"
   ]
  },
  {
   "cell_type": "code",
   "execution_count": 1,
   "metadata": {},
   "outputs": [
    {
     "data": {
      "text/plain": [
       "device(type='cpu')"
      ]
     },
     "execution_count": 1,
     "metadata": {},
     "output_type": "execute_result"
    }
   ],
   "source": [
    "## This cell contains the essential imports you will need – DO NOT CHANGE THE CONTENTS! ##\n",
    "import torch\n",
    "import torch.nn as nn\n",
    "import torch.nn.functional as F\n",
    "import torch.optim as optim\n",
    "import torchvision\n",
    "import torchvision.transforms as transforms\n",
    "from torch.utils.data import random_split\n",
    "import matplotlib.pyplot as plt\n",
    "import numpy as np\n",
    "import random\n",
    "\n",
    "device = torch.device('cuda' if torch.cuda.is_available() else 'cpu')\n",
    "device"
   ]
  },
  {
   "cell_type": "markdown",
   "metadata": {},
   "source": [
    "## Load the Dataset\n",
    "\n",
    "Specify your transforms as a list if you intend to .\n",
    "The transforms module is already loaded as `transforms`.\n",
    "\n",
    "MNIST is fortunately included in the torchvision module.\n",
    "Then, you can create your dataset using the `MNIST` object from `torchvision.datasets` ([the documentation is available here](https://pytorch.org/vision/stable/datasets.html#mnist)).\n",
    "Make sure to specify `download=True`! \n",
    "\n",
    "Once your dataset is created, you'll also need to define a `DataLoader` from the `torch.utils.data` module for both the train and the test set."
   ]
  },
  {
   "cell_type": "code",
   "execution_count": 4,
   "metadata": {},
   "outputs": [
    {
     "name": "stdout",
     "output_type": "stream",
     "text": [
      "Training Data: Dataset MNIST\n",
      "    Number of datapoints: 60000\n",
      "    Root location: data\n",
      "    Split: Train \n",
      "\n",
      "Length: 60000 \n",
      "\n",
      "Shape: torch.Size([60000, 28, 28]) \n",
      "\n",
      "targets: tensor([5, 0, 4,  ..., 5, 6, 8]) \n",
      "\n",
      "Classes: ['0 - zero', '1 - one', '2 - two', '3 - three', '4 - four', '5 - five', '6 - six', '7 - seven', '8 - eight', '9 - nine'] \n",
      "\n",
      "IDX: {'0 - zero': 0, '1 - one': 1, '2 - two': 2, '3 - three': 3, '4 - four': 4, '5 - five': 5, '6 - six': 6, '7 - seven': 7, '8 - eight': 8, '9 - nine': 9} \n",
      "\n"
     ]
    }
   ],
   "source": [
    "training_data = torchvision.datasets.MNIST(root=\"data\",train=True,download=True)\n",
    "\n",
    "#Examine the data: shape, number of classes, number of datapoints\n",
    "print(\"Training Data:\",training_data,\"\\n\")\n",
    "print(\"Length:\",len(training_data,),\"\\n\")\n",
    "print(\"Shape:\",training_data.data.shape,\"\\n\")\n",
    "print(\"targets:\",training_data.targets,\"\\n\")\n",
    "print(\"Classes:\",training_data.classes,\"\\n\")\n",
    "print(\"IDX:\",training_data.class_to_idx,\"\\n\")\n",
    "\n"
   ]
  },
  {
   "cell_type": "code",
   "execution_count": 5,
   "metadata": {},
   "outputs": [
    {
     "name": "stdout",
     "output_type": "stream",
     "text": [
      "Picture info and length:\n",
      "\n",
      "(<PIL.Image.Image image mode=L size=28x28 at 0x7FF2CD7C0670>, 5)\n",
      "2 \n",
      "\n",
      "data: <PIL.Image.Image image mode=L size=28x28 at 0x7FF2CD7C0670>\n",
      "label 5 <class 'int'>\n"
     ]
    }
   ],
   "source": [
    "#Take a look at one picture\n",
    "print(\"Picture info and length:\\n\")\n",
    "print(training_data[0])\n",
    "print(len(training_data[0]),\"\\n\")\n",
    "\n",
    "data, label = training_data[0]\n",
    "\n",
    "print(\"data:\",data)\n",
    "print(\"label\",label,type(label))"
   ]
  },
  {
   "cell_type": "code",
   "execution_count": 6,
   "metadata": {},
   "outputs": [
    {
     "name": "stdout",
     "output_type": "stream",
     "text": [
      "Mean: tensor([0.1377])\n",
      "Standard Deviation: tensor([0.3125])\n"
     ]
    }
   ],
   "source": [
    "#find standard deviation and mean for normalization\n",
    "\n",
    "transform = transforms.Compose([\n",
    "    transforms.ToTensor()\n",
    "])\n",
    "\n",
    "t_image = transform(data)\n",
    "\n",
    "mean = torch.mean(t_image, dim=(1, 2))\n",
    "std = torch.std(t_image, dim=(1, 2))\n",
    "\n",
    "print(\"Mean:\", mean)\n",
    "print(\"Standard Deviation:\", std)"
   ]
  },
  {
   "cell_type": "code",
   "execution_count": 7,
   "metadata": {},
   "outputs": [],
   "source": [
    "# Define transforms\n",
    "transform = transforms.Compose([transforms.ToTensor(), transforms.GaussianBlur(kernel_size=(11,11),sigma=(0.1,0.2)),\n",
    "    transforms.Normalize((0.1377), (0.3125))])\n",
    "\n",
    "# Create training set and define training dataloader\n",
    "training_data = torchvision.datasets.MNIST(root=\"data\",train=True,download=True,transform=transform)\n",
    "training_loader = torch.utils.data.DataLoader(training_data,batch_size=16)\n",
    "\n",
    "# Create test set and define test dataloader\n",
    "test_data = torchvision.datasets.MNIST(root=\"data\",train=False,download=True,transform=transform)\n",
    "test_loader = torch.utils.data.DataLoader(training_data,batch_size=16)"
   ]
  },
  {
   "cell_type": "markdown",
   "metadata": {},
   "source": [
    "## Justify your preprocessing\n",
    "\n",
    "In your own words, why did you choose the transforms you chose? If you didn't use any preprocessing steps, why not?"
   ]
  },
  {
   "cell_type": "markdown",
   "metadata": {},
   "source": [
    "I chose GaussianBlur to add some sort of effector to change the picture visualization but did not want to use something\n",
    "that would alter the state of the image so that it would be confused with another number.  Normalizastion was used to \n",
    "make the pixel values between 0 and 1."
   ]
  },
  {
   "cell_type": "markdown",
   "metadata": {},
   "source": [
    "## Explore the Dataset\n",
    "Using matplotlib, numpy, and torch, explore the dimensions of your data.\n",
    "\n",
    "You can view images using the `show5` function defined below – it takes a data loader as an argument.\n",
    "Remember that normalized images will look really weird to you! You may want to try changing your transforms to view images.\n",
    "Typically using no transforms other than `toTensor()` works well for viewing – but not as well for training your network.\n",
    "If `show5` doesn't work, go back and check your code for creating your data loaders and your training/test sets."
   ]
  },
  {
   "cell_type": "code",
   "execution_count": 8,
   "metadata": {},
   "outputs": [],
   "source": [
    "## This cell contains a function for showing 5 images from a dataloader – DO NOT CHANGE THE CONTENTS! ##\n",
    "def show5(img_loader):\n",
    "    dataiter = iter(img_loader)\n",
    "    \n",
    "    batch = next(dataiter)\n",
    "    labels = batch[1][0:5]\n",
    "    images = batch[0][0:5]\n",
    "\n",
    " \n",
    "    fig = plt.figure()\n",
    "    for i in range(5):\n",
    "        plt.subplot(2,3,i+1)\n",
    "        plt.tight_layout()\n",
    "        print(int(labels[i].detach()))\n",
    "        image = images[i].numpy()\n",
    "        plt.imshow(image.T.squeeze().T, cmap='gray', interpolation='none')\n",
    "\n",
    "        plt.show()\n"
   ]
  },
  {
   "cell_type": "code",
   "execution_count": 9,
   "metadata": {},
   "outputs": [
    {
     "name": "stdout",
     "output_type": "stream",
     "text": [
      "5\n"
     ]
    },
    {
     "data": {
      "image/png": "[encoded data removed]",
      "text/plain": [
       "<Figure size 640x480 with 1 Axes>"
      ]
     },
     "metadata": {},
     "output_type": "display_data"
    },
    {
     "name": "stdout",
     "output_type": "stream",
     "text": [
      "0\n"
     ]
    },
    {
     "data": {
      "image/png": "[encoded data removed]",
      "text/plain": [
       "<Figure size 640x480 with 1 Axes>"
      ]
     },
     "metadata": {},
     "output_type": "display_data"
    },
    {
     "name": "stdout",
     "output_type": "stream",
     "text": [
      "4\n"
     ]
    },
    {
     "data": {
      "image/png": "[encoded data removed]",
      "text/plain": [
       "<Figure size 640x480 with 1 Axes>"
      ]
     },
     "metadata": {},
     "output_type": "display_data"
    },
    {
     "name": "stdout",
     "output_type": "stream",
     "text": [
      "1\n"
     ]
    },
    {
     "data": {
      "image/png": "[encoded data removed]",
      "text/plain": [
       "<Figure size 640x480 with 1 Axes>"
      ]
     },
     "metadata": {},
     "output_type": "display_data"
    },
    {
     "name": "stdout",
     "output_type": "stream",
     "text": [
      "9\n"
     ]
    },
    {
     "data": {
      "image/png": "[encoded data removed]",
      "text/plain": [
       "<Figure size 640x480 with 1 Axes>"
      ]
     },
     "metadata": {},
     "output_type": "display_data"
    }
   ],
   "source": [
    "# Explore data\n",
    "show5(training_loader)\n"
   ]
  },
  {
   "cell_type": "markdown",
   "metadata": {},
   "source": [
    "## Build your Neural Network\n",
    "Using the layers in `torch.nn` (which has been imported as `nn`) and the `torch.nn.functional` module (imported as `F`), construct a neural network based on the parameters of the dataset.\n",
    "Use any architecture you like. \n",
    "\n",
    "*Note*: If you did not flatten your tensors in your transforms or as part of your preprocessing and you are using only `Linear` layers, make sure to use the `Flatten` layer in your network!"
   ]
  },
  {
   "cell_type": "code",
   "execution_count": 10,
   "metadata": {},
   "outputs": [],
   "source": [
    "#Create neural network class.  Initialization sets up the layers to go from 784 of the input layer\n",
    "#to a 128 note hiddel layer to a 64 node hidden layer to a 10 node output layer...corresponding to each number.\n",
    "\n",
    "class Net(nn.Module):\n",
    "    def __init__(self):\n",
    "        super().__init__()\n",
    "        self.activation = F.relu\n",
    "        self.fc1 = nn.Linear(28 * 28, 128)\n",
    "        #self.fc2 = nn.Linear(512,128)\n",
    "        self.fc2 = nn.Linear(128, 64)\n",
    "        self.fc3 = nn.Linear(64, 10)\n",
    "        self.dropout = nn.Dropout(0.2)\n",
    "\n",
    "#Function to add activation functions to each layers, 2 RELU then SOFTMAX for the output layer.\n",
    "    def forward(self, x):\n",
    "        x = torch.flatten(x, 1) \n",
    "        x = F.relu(self.fc1(x))\n",
    "        x = self.dropout(x)\n",
    "        x = F.relu(self.fc2(x))\n",
    "        x = self.dropout(x)\n",
    "        x = F.relu(self.fc3(x))\n",
    "        #x = self.dropout(x)\n",
    "        #x = self.fc4(x)\n",
    "        x = F.log_softmax(x,dim=1)\n",
    "        return x\n"
   ]
  },
  {
   "cell_type": "markdown",
   "metadata": {},
   "source": [
    "Specify a loss function and an optimizer, and instantiate the model.\n",
    "\n",
    "If you use a less common loss function, please note why you chose that loss function in a comment."
   ]
  },
  {
   "cell_type": "code",
   "execution_count": 11,
   "metadata": {},
   "outputs": [
    {
     "data": {
      "text/plain": [
       "Net(\n",
       "  (fc1): Linear(in_features=784, out_features=128, bias=True)\n",
       "  (fc2): Linear(in_features=128, out_features=64, bias=True)\n",
       "  (fc3): Linear(in_features=64, out_features=10, bias=True)\n",
       "  (dropout): Dropout(p=0.2, inplace=False)\n",
       ")"
      ]
     },
     "execution_count": 11,
     "metadata": {},
     "output_type": "execute_result"
    }
   ],
   "source": [
    "#initalize neural network\n",
    "net = Net()\n",
    "#net.to(device)\n",
    "\n",
    "#ADAM optimizer\n",
    "optimizer = optim.Adam(net.parameters(), lr=0.001)\n",
    "\n",
    "# Add Cross Entropy loss function\n",
    "criterion = nn.CrossEntropyLoss()\n",
    "\n",
    "net"
   ]
  },
  {
   "cell_type": "markdown",
   "metadata": {},
   "source": [
    "## Running your Neural Network\n",
    "Use whatever method you like to train your neural network, and ensure you record the average loss at each epoch. \n",
    "Don't forget to use `torch.device()` and the `.to()` method for both your model and your data if you are using GPU!\n",
    "\n",
    "If you want to print your loss **during** each epoch, you can use the `enumerate` function and print the loss after a set number of batches. 250 batches works well for most people!"
   ]
  },
  {
   "cell_type": "code",
   "execution_count": 12,
   "metadata": {},
   "outputs": [
    {
     "name": "stdout",
     "output_type": "stream",
     "text": [
      "Epoch 1 training loss: 0.45365\n",
      "Epoch 2 training loss: 0.18168\n",
      "Epoch 3 training loss: 0.14916\n",
      "Epoch 4 training loss: 0.13269\n",
      "Epoch 5 training loss: 0.12380\n",
      "Epoch 6 training loss: 0.11433\n",
      "Epoch 7 training loss: 0.10922\n",
      "Epoch 8 training loss: 0.10284\n",
      "Epoch 9 training loss: 0.09840\n",
      "Epoch 10 training loss: 0.09469\n",
      "Epoch 11 training loss: 0.09105\n",
      "Epoch 12 training loss: 0.09032\n",
      "Epoch 13 training loss: 0.08808\n",
      "Epoch 14 training loss: 0.08240\n",
      "Epoch 15 training loss: 0.08374\n",
      "Epoch 16 training loss: 0.07772\n",
      "Epoch 17 training loss: 0.07884\n",
      "Epoch 18 training loss: 0.07931\n",
      "Epoch 19 training loss: 0.07987\n",
      "Epoch 20 training loss: 0.07199\n",
      "Epoch 21 training loss: 0.07398\n",
      "Epoch 22 training loss: 0.07107\n",
      "Epoch 23 training loss: 0.07149\n",
      "Epoch 24 training loss: 0.07228\n",
      "Epoch 25 training loss: 0.06963\n",
      "Epoch 26 training loss: 0.06999\n",
      "Epoch 27 training loss: 0.06456\n",
      "Epoch 28 training loss: 0.06716\n",
      "Epoch 29 training loss: 0.06702\n",
      "Epoch 30 training loss: 0.06667\n",
      "Epoch 31 training loss: 0.06547\n",
      "Epoch 32 training loss: 0.06328\n",
      "Epoch 33 training loss: 0.06418\n",
      "Epoch 34 training loss: 0.06357\n",
      "Epoch 35 training loss: 0.06147\n",
      "Epoch 36 training loss: 0.06670\n",
      "Epoch 37 training loss: 0.06318\n",
      "Epoch 38 training loss: 0.06291\n",
      "Epoch 39 training loss: 0.05999\n",
      "Epoch 40 training loss: 0.05838\n"
     ]
    }
   ],
   "source": [
    "epochs = 40\n",
    "training_loss_history = list()\n",
    "\n",
    "\n",
    "for epoch in range(epochs):\n",
    "    net.train()\n",
    "    train_loss = 0.0\n",
    " \n",
    "    for i, data in enumerate(training_loader):\n",
    "        inputs, labels = data\n",
    "        inputs, labels = inputs.to(device), labels.to(device)\n",
    "        optimizer.zero_grad()\n",
    "        outputs = net(inputs)\n",
    "\n",
    "        #compute loss using cross entropy\n",
    "        loss = criterion(outputs, labels)\n",
    "        \n",
    "        loss.backward()\n",
    "        optimizer.step()\n",
    "\n",
    "        train_loss += loss.item()\n",
    "\n",
    "    print(f'Epoch {epoch +1} training loss: {train_loss/len(training_loader):.5f}')\n",
    "    training_loss_history.append(train_loss/len(training_loader))\n",
    "    "
   ]
  },
  {
   "cell_type": "markdown",
   "metadata": {},
   "source": [
    "Plot the training loss (and validation loss/accuracy, if recorded)."
   ]
  },
  {
   "cell_type": "code",
   "execution_count": 13,
   "metadata": {},
   "outputs": [
    {
     "data": {
      "image/png": "[encoded data removed]",
      "text/plain": [
       "<Figure size 640x480 with 1 Axes>"
      ]
     },
     "execution_count": 13,
     "metadata": {},
     "output_type": "execute_result"
    }
   ],
   "source": [
    "#Plot training loss\n",
    "epochs = list(range(1,41))\n",
    "fig =plt.figure()\n",
    "plt.plot(epochs,training_loss_history)\n",
    "plt.xlabel('Epochs')\n",
    "plt.ylabel('Loss')\n",
    "fig"
   ]
  },
  {
   "cell_type": "markdown",
   "metadata": {},
   "source": [
    "## Testing your model\n",
    "Using the previously created `DataLoader` for the test set, compute the percentage of correct predictions using the highest probability prediction. \n",
    "\n",
    "If your accuracy is over 90%, great work, but see if you can push a bit further! \n",
    "If your accuracy is under 90%, you'll need to make improvements.\n",
    "Go back and check your model architecture, loss function, and optimizer to make sure they're appropriate for an image classification task."
   ]
  },
  {
   "cell_type": "code",
   "execution_count": 14,
   "metadata": {},
   "outputs": [
    {
     "name": "stdout",
     "output_type": "stream",
     "text": [
      "accuracy 0.99372\n"
     ]
    }
   ],
   "source": [
    "num_correct = 0.0\n",
    "\n",
    "for image, labels in test_loader:\n",
    "    #Put model in eval mode\n",
    "    net.eval()\n",
    "    \n",
    "    #Since this is a classification problems, model returns a 16x10 matrix.  16 is the batch size, 10 predictions each\n",
    "    predictions = net(image)\n",
    "    \n",
    "    #Return the maximum value in each of the 16 rows which will be the highest classification\n",
    "    _,predicted = torch.max(predictions,1)\n",
    "\n",
    "    #compare the predicted value and the value from the original set of 16 images\n",
    "    num_correct += (predicted == labels).sum()\n",
    "\n",
    "accuracy = num_correct/(len(test_loader) * 16)\n",
    "print(f'accuracy {accuracy:.5f}')                       "
   ]
  },
  {
   "cell_type": "markdown",
   "metadata": {},
   "source": [
    "## Improving your model\n",
    "\n",
    "Once your model is done training, try tweaking your hyperparameters and training again below to improve your accuracy on the test set!\n",
    "\n",
    "I did this iteratively while I was training the model.  I started out with stochastic gradient decent but shifted to ADAM.  I started with an accuracy of around 79%.  I added dropout layers and added softmax before the output layer.  I also experimented with different ADAM learning rate values."
   ]
  },
  {
   "cell_type": "code",
   "execution_count": 15,
   "metadata": {},
   "outputs": [
    {
     "data": {
      "image/png": "[encoded data removed]",
      "text/plain": [
       "<Figure size 600x900 with 2 Axes>"
      ]
     },
     "execution_count": 15,
     "metadata": {},
     "output_type": "execute_result"
    }
   ],
   "source": [
    "#Choose a random image and see how it predicts\n",
    "\n",
    "random_number = random.randint(1, 10000)\n",
    "image,label = test_data[random_number]\n",
    "\n",
    "class_prediction = net(image)\n",
    "_,prediction = torch.max(class_prediction,1) \n",
    "\n",
    "conv_class_prediction = torch.exp(class_prediction)\n",
    "\n",
    "probabilities = conv_class_prediction[0].detach().numpy()\n",
    "\n",
    "img = image.numpy().squeeze()\n",
    "\n",
    "fig, (ax1, ax2) = plt.subplots(figsize=(6,9), ncols=2)\n",
    "ax1.imshow(img, cmap = plt.cm.binary)\n",
    "ax1.axis('off')\n",
    "ax2.barh(np.arange(10), probabilities)\n",
    "ax2.set_aspect(0.1)\n",
    "ax2.set_yticks(np.arange(10))\n",
    "ax2.set_yticklabels(np.arange(10))\n",
    "ax2.set_title('Class Probability:')\n",
    "ax2.set_xlim(0, 1.1)\n",
    "plt.tight_layout()\n",
    "\n",
    "fig\n",
    "\n"
   ]
  },
  {
   "cell_type": "markdown",
   "metadata": {},
   "source": [
    "## Saving your model\n",
    "Using `torch.save`, save your model for future loading."
   ]
  },
  {
   "cell_type": "code",
   "execution_count": 19,
   "metadata": {},
   "outputs": [],
   "source": [
    "#Save to default directory\n",
    "torch.save(net.state_dict(),\"digits_classifier.pth\")"
   ]
  },
  {
   "cell_type": "code",
   "execution_count": null,
   "metadata": {},
   "outputs": [],
   "source": []
  }
 ],
 "metadata": {
  "kernelspec": {
   "display_name": "Python 3 (ipykernel)",
   "language": "python",
   "name": "python3"
  },
  "language_info": {
   "codemirror_mode": {
    "name": "ipython",
    "version": 3
   },
   "file_extension": ".py",
   "mimetype": "text/x-python",
   "name": "python",
   "nbconvert_exporter": "python",
   "pygments_lexer": "ipython3",
   "version": "3.9.12"
  }
 },
 "nbformat": 4,
 "nbformat_minor": 4
}
